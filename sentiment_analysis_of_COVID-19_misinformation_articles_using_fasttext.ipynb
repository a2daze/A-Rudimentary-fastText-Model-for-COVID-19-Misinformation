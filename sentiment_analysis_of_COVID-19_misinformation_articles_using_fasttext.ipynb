{
 "cells": [
  {
   "cell_type": "markdown",
   "metadata": {},
   "source": [
    "$Setting~Up~Environment$"
   ]
  },
  {
   "cell_type": "code",
   "execution_count": 1,
   "metadata": {},
   "outputs": [],
   "source": [
    "import pandas as pd\n",
    "from gensim.models.phrases import Phrases, Phraser\n",
    "from gensim.models import FastText\n",
    "from gensim.models import Word2Vec\n",
    "from gensim.test.utils import datapath\n",
    "import joblib"
   ]
  },
  {
   "cell_type": "markdown",
   "metadata": {},
   "source": [
    "$Load~in~dataset$"
   ]
  },
  {
   "cell_type": "code",
   "execution_count": 28,
   "metadata": {},
   "outputs": [],
   "source": [
    "misinfo_covid = '/Users/alexz/Downloads/covid_misinfo_unesco/disinfo_stories.csv'\n",
    "misinfo_covid_df = pd.read_csv(misinfo_covid)\n",
    "title = misinfo_covid_df['Title']"
   ]
  },
  {
   "cell_type": "markdown",
   "metadata": {},
   "source": [
    "$Extract~phrases/sentences~from~title~column~in~dataset$"
   ]
  },
  {
   "cell_type": "code",
   "execution_count": 37,
   "metadata": {},
   "outputs": [
    {
     "ename": "NameError",
     "evalue": "name 'gensim' is not defined",
     "output_type": "error",
     "traceback": [
      "\u001b[0;31m---------------------------------------------------------------------------\u001b[0m",
      "\u001b[0;31mNameError\u001b[0m                                 Traceback (most recent call last)",
      "Cell \u001b[0;32mIn[37], line 10\u001b[0m\n\u001b[1;32m      7\u001b[0m \u001b[38;5;66;03m#Create a Phraser object called sentences which contains sentences inside from the original dataframe column \"title\"\u001b[39;00m\n\u001b[1;32m      8\u001b[0m sentences \u001b[38;5;241m=\u001b[39m phrases[sent]\n\u001b[0;32m---> 10\u001b[0m help(\u001b[43mgensim\u001b[49m\u001b[38;5;241m.\u001b[39mmodels\u001b[38;5;241m.\u001b[39mphrases)\n",
      "\u001b[0;31mNameError\u001b[0m: name 'gensim' is not defined"
     ]
    }
   ],
   "source": [
    "# Check for NaN values in 'title' and replace them with an empty string (otherwise rows won't split, will show error)\n",
    "title = title.fillna('')\n",
    "# Split each row in 'title' only if it is a string\n",
    "sent = [row.split() if isinstance(row, str) else [] for row in title]\n",
    "#Create phrases object from Phrases method in gensim library\n",
    "phrases = Phrases(sent, min_count=30, progress_per=10000)\n",
    "#Create a Phraser object called sentences which contains sentences inside from the original dataframe column \"title\"\n",
    "sentences = phrases[sent]"
   ]
  },
  {
   "cell_type": "markdown",
   "metadata": {},
   "source": [
    "$Initializing,~building~ vocabulary,~and~training~for~fastText~model$"
   ]
  },
  {
   "cell_type": "code",
   "execution_count": 35,
   "metadata": {},
   "outputs": [
    {
     "name": "stdout",
     "output_type": "stream",
     "text": [
      "1640\n"
     ]
    }
   ],
   "source": [
    "#Build FastText vocabulary\n",
    "model_covid_misinfo = FastText(vector_size=100, window=5, min_count=5, workers=4, min_n=1) #size=n has been deprecated\n",
    "model_covid_misinfo.build_vocab(sentences)\n",
    "print(len(model_covid_misinfo.wv.key_to_index)) "
   ]
  },
  {
   "cell_type": "code",
   "execution_count": 38,
   "metadata": {},
   "outputs": [
    {
     "data": {
      "text/plain": [
       "(2933101, 6190900)"
      ]
     },
     "execution_count": 38,
     "metadata": {},
     "output_type": "execute_result"
    }
   ],
   "source": [
    "#Train FastText model\n",
    "model_covid_misinfo.train(sentences, total_examples=len(sentences), epochs=100)"
   ]
  },
  {
   "cell_type": "code",
   "execution_count": 40,
   "metadata": {},
   "outputs": [
    {
     "data": {
      "text/plain": [
       "['fasttext_covidmisinfo.joblib']"
      ]
     },
     "execution_count": 40,
     "metadata": {},
     "output_type": "execute_result"
    }
   ],
   "source": [
    "#Save model for later\n",
    "path = 'fasttext_covidmisinfo.joblib'\n",
    "joblib.dump(model_covid_misinfo,path)"
   ]
  },
  {
   "cell_type": "markdown",
   "metadata": {},
   "source": [
    "$Looking~ at~ 'Most~ Similar'~ word~ ratings: FastText$"
   ]
  },
  {
   "cell_type": "code",
   "execution_count": 87,
   "metadata": {},
   "outputs": [
    {
     "name": "stdout",
     "output_type": "stream",
     "text": [
      "0.40615907 0.30257067 0.361479 0.59322786\n"
     ]
    }
   ],
   "source": [
    "#In vocabulary\n",
    "model_covid_misinfo.wv.most_similar('government',topn=10)\n",
    "model_covid_misinfo.wv.most_similar('response',topn=10)\n",
    "model_covid_misinfo.wv.most_similar('vaccine',topn=10)\n",
    "model_covid_misinfo.wv.most_similar('hydroxychloroquine',topn=10)\n",
    "model_covid_misinfo.wv.most_similar('good',topn=10)\n",
    "\n",
    "\n",
    "ngram_buckets=model_covid_misinfo.wv.recalc_char_ngram_buckets()\n",
    "ngram_buckets\n",
    "model_covid_misinfo.wv.most_similar('government',topn=10)\n",
    "model_covid_misinfo.wv.n_similarity(['government'],['response'])\n",
    "\n",
    "#model_covid_misinfo.wv.rank_by_centrality()\n",
    "#rank(self, key1, key2)\n",
    "#help(model_covid_misinfo.wv)\n",
    "#n_similarity(self, ws1, ws2)\n",
    "#most_similar_cosmul(self, positive=None, negative=None, topn=10, restrict_vocab=None)\n",
    "#most_similar_to_given(self, key1, keys_list)"
   ]
  },
  {
   "cell_type": "code",
   "execution_count": 110,
   "metadata": {},
   "outputs": [
    {
     "name": "stdout",
     "output_type": "stream",
     "text": [
      "                 word1        word2  similarity\n",
      "0              vaccine          bad    0.247462\n",
      "1              vaccine         good    0.302571\n",
      "2              vaccine    effective    0.708363\n",
      "3              vaccine    dangerous    0.398112\n",
      "4              vaccine  ineffective    0.759837\n",
      "5              vaccine       deadly    0.426567\n",
      "6           government         good    0.556639\n",
      "7           government          bad    0.361479\n",
      "8             response         good    0.497543\n",
      "9             response          bad    0.352768\n",
      "10  hydroxychloroquine         good    0.558569\n",
      "11  hydroxychloroquine          bad    0.445593\n",
      "12             America         good    0.396039\n",
      "13             America          bad    0.437726\n",
      "14               China         good    0.365770\n",
      "15               China          bad    0.360919\n",
      "16              Russia         good    0.394316\n",
      "17              Russia          bad    0.474688\n",
      "18               India         good    0.520436\n",
      "19               India          bad    0.613484\n",
      "20               China         fast    0.359825\n",
      "21               China         slow    0.307500\n",
      "22             America         fast    0.339101\n",
      "23             America         slow    0.322362\n",
      "24              Russia         fast    0.453711\n",
      "25              Russia         slow    0.533196\n",
      "26               India         fast    0.294126\n",
      "27               India         slow    0.452913\n",
      "28          government         fast    0.566950\n",
      "29          government         slow    0.381136\n",
      "30            response         fast    0.543273\n",
      "31            response         slow    0.615420\n"
     ]
    }
   ],
   "source": [
    "def calculate_similarities(model, pairs):\n",
    "    results = []\n",
    "    for word1, word2 in pairs:\n",
    "        try:\n",
    "            similarity = model.wv.n_similarity([word1], [word2])\n",
    "            results.append({'word1': word1, 'word2': word2, 'similarity': similarity})\n",
    "        except KeyError as e:\n",
    "            results.append({'word1': word1, 'word2': word2, 'similarity': 'Word not in vocabulary'})\n",
    "    return pd.DataFrame(results)\n",
    "\n",
    "if __name__ == '__main__':\n",
    "    model = model_covid_misinfo  # Load your trained model\n",
    "    word_pairs = [('vaccine', 'bad'), ('vaccine', 'good'),\n",
    "                  ('vaccine',  'effective'), ('vaccine', 'dangerous'),\n",
    "                  ('vaccine', 'ineffective'), ('vaccine', 'deadly'),\n",
    "                  ('government', 'good'), ('government', 'bad'),\n",
    "                  ('response', 'good'), ('response', 'bad'),\n",
    "                  ('hydroxychloroquine', 'good'), ('hydroxychloroquine', 'bad'),\n",
    "                  ('America', 'good'), ('America', 'bad'),\n",
    "                  ('China', 'good'), ('China', 'bad'),\n",
    "                  ('Russia', 'good'), ('Russia', 'bad'),\n",
    "                  ('India', 'good'), ('India', 'bad'),\n",
    "                  ('China', 'fast'), ('China', 'slow'),\n",
    "                  ('America', 'fast'), ('America', 'slow'),\n",
    "                  ('Russia', 'fast'), ('Russia', 'slow'),\n",
    "                  ('India', 'fast'), ('India', 'slow'),\n",
    "                  ('government', 'fast'), ('government', 'slow'),\n",
    "                  ('response', 'fast'), ('response', 'slow')\n",
    "                  \n",
    "                                        ]\n",
    "    similarity_df = calculate_similarities(model, word_pairs)\n",
    "    print(similarity_df)    "
   ]
  },
  {
   "cell_type": "code",
   "execution_count": 124,
   "metadata": {},
   "outputs": [
    {
     "name": "stdout",
     "output_type": "stream",
     "text": [
      "                 word1        word2  similarity\n",
      "0              vaccine          bad    0.247462\n",
      "1              vaccine         good    0.302571\n",
      "2              vaccine    effective    0.708363\n",
      "3              vaccine    dangerous    0.398112\n",
      "4              vaccine  ineffective    0.759837\n",
      "5              vaccine       deadly    0.426567\n",
      "6           government         good    0.556639\n",
      "7           government          bad    0.361479\n",
      "8             response         good    0.497543\n",
      "9             response          bad    0.352768\n",
      "10  hydroxychloroquine         good    0.558569\n",
      "11  hydroxychloroquine          bad    0.445593\n",
      "12             America         good    0.396039\n",
      "13             America          bad    0.437726\n",
      "14               China         good    0.365770\n",
      "15               China          bad    0.360919\n",
      "16              Russia         good    0.394316\n",
      "17              Russia          bad    0.474688\n",
      "18               India         good    0.520436\n",
      "19               India          bad    0.613484\n",
      "20               China         fast    0.359825\n",
      "21               China         slow    0.307500\n",
      "22             America         fast    0.339101\n",
      "23             America         slow    0.322362\n",
      "24              Russia         fast    0.453711\n",
      "25              Russia         slow    0.533196\n",
      "26               India         fast    0.294126\n",
      "27               India         slow    0.452913\n",
      "28          government         fast    0.566950\n",
      "29          government         slow    0.381136\n",
      "30            response         fast    0.543273\n",
      "31            response         slow    0.615420\n"
     ]
    },
    {
     "ename": "AttributeError",
     "evalue": "'numpy.float32' object has no attribute 'append'",
     "output_type": "error",
     "traceback": [
      "\u001b[0;31m---------------------------------------------------------------------------\u001b[0m",
      "\u001b[0;31mAttributeError\u001b[0m                            Traceback (most recent call last)",
      "Cell \u001b[0;32mIn[124], line 59\u001b[0m\n\u001b[1;32m     57\u001b[0m model \u001b[38;5;241m=\u001b[39m model_covid_misinfo  \u001b[38;5;66;03m# Load your trained model\u001b[39;00m\n\u001b[1;32m     58\u001b[0m countries \u001b[38;5;241m=\u001b[39m [\u001b[38;5;124m'\u001b[39m\u001b[38;5;124mIndia\u001b[39m\u001b[38;5;124m'\u001b[39m, \u001b[38;5;124m'\u001b[39m\u001b[38;5;124mChina\u001b[39m\u001b[38;5;124m'\u001b[39m, \u001b[38;5;124m'\u001b[39m\u001b[38;5;124mUnited States\u001b[39m\u001b[38;5;124m'\u001b[39m, \u001b[38;5;124m'\u001b[39m\u001b[38;5;124mBrazil\u001b[39m\u001b[38;5;124m'\u001b[39m, \u001b[38;5;124m'\u001b[39m\u001b[38;5;124mRussia\u001b[39m\u001b[38;5;124m'\u001b[39m]\n\u001b[0;32m---> 59\u001b[0m \u001b[43mplot_similarity_frequency\u001b[49m\u001b[43m(\u001b[49m\u001b[43mmodel_covid_misinfo\u001b[49m\u001b[43m,\u001b[49m\u001b[43m \u001b[49m\u001b[38;5;124;43m'\u001b[39;49m\u001b[38;5;124;43mgood\u001b[39;49m\u001b[38;5;124;43m'\u001b[39;49m\u001b[43m,\u001b[49m\u001b[43m \u001b[49m\u001b[43mcountries\u001b[49m\u001b[43m)\u001b[49m\n",
      "Cell \u001b[0;32mIn[124], line 42\u001b[0m, in \u001b[0;36mplot_similarity_frequency\u001b[0;34m(model, word, countries)\u001b[0m\n\u001b[1;32m     40\u001b[0m \u001b[38;5;28;01mfor\u001b[39;00m country \u001b[38;5;129;01min\u001b[39;00m countries:\n\u001b[1;32m     41\u001b[0m     similarity \u001b[38;5;241m=\u001b[39m model\u001b[38;5;241m.\u001b[39mwv\u001b[38;5;241m.\u001b[39mn_similarity([country], [word])\n\u001b[0;32m---> 42\u001b[0m     \u001b[43msimilarity\u001b[49m\u001b[38;5;241;43m.\u001b[39;49m\u001b[43mappend\u001b[49m(similarity)\n\u001b[1;32m     43\u001b[0m     frequency \u001b[38;5;241m=\u001b[39m model\u001b[38;5;241m.\u001b[39mwv\u001b[38;5;241m.\u001b[39mvocab\u001b[38;5;241m.\u001b[39mget(\u001b[38;5;124mf\u001b[39m\u001b[38;5;124m\"\u001b[39m\u001b[38;5;132;01m{\u001b[39;00mcountry\u001b[38;5;132;01m}\u001b[39;00m\u001b[38;5;124m - \u001b[39m\u001b[38;5;132;01m{\u001b[39;00mword\u001b[38;5;132;01m}\u001b[39;00m\u001b[38;5;124m\"\u001b[39m, {})\u001b[38;5;241m.\u001b[39mcount\n\u001b[1;32m     44\u001b[0m     frequencies\u001b[38;5;241m.\u001b[39mappend(frequency)\n",
      "\u001b[0;31mAttributeError\u001b[0m: 'numpy.float32' object has no attribute 'append'"
     ]
    }
   ],
   "source": [
    "import matplotlib.pyplot as plt\n",
    "\n",
    "def calculate_similarities(model, pairs):\n",
    "    results = []\n",
    "    for word1, word2 in pairs:\n",
    "        try:\n",
    "            similarity = model.wv.n_similarity([word1], [word2])\n",
    "            results.append({'word1': word1, 'word2': word2, 'similarity': similarity})\n",
    "        except KeyError as e:\n",
    "            results.append({'word1': word1, 'word2': word2, 'similarity': 'Word not in vocabulary'})\n",
    "    return pd.DataFrame(results)\n",
    "\n",
    "if __name__ == '__main__':\n",
    "    model = model_covid_misinfo  # Load your trained model\n",
    "    word_pairs = [('vaccine', 'bad'), ('vaccine', 'good'),\n",
    "                  ('vaccine',  'effective'), ('vaccine', 'dangerous'),\n",
    "                  ('vaccine', 'ineffective'), ('vaccine', 'deadly'),\n",
    "                  ('government', 'good'), ('government', 'bad'),\n",
    "                  ('response', 'good'), ('response', 'bad'),\n",
    "                  ('hydroxychloroquine', 'good'), ('hydroxychloroquine', 'bad'),\n",
    "                  ('America', 'good'), ('America', 'bad'),\n",
    "                  ('China', 'good'), ('China', 'bad'),\n",
    "                  ('Russia', 'good'), ('Russia', 'bad'),\n",
    "                  ('India', 'good'), ('India', 'bad'),\n",
    "                  ('China', 'fast'), ('China', 'slow'),\n",
    "                  ('America', 'fast'), ('America', 'slow'),\n",
    "                  ('Russia', 'fast'), ('Russia', 'slow'),\n",
    "                  ('India', 'fast'), ('India', 'slow'),\n",
    "                  ('government', 'fast'), ('government', 'slow'),\n",
    "                  ('response', 'fast'), ('response', 'slow')\n",
    "                  \n",
    "                                        ]\n",
    "    similarity_df = calculate_similarities(model, word_pairs)\n",
    "    print(similarity_df)    \n",
    "import matplotlib.pyplot as plt\n",
    "\n",
    "def plot_similarity_frequency(model, word, countries):\n",
    "    frequencies = []\n",
    "    \n",
    "    for country in countries:\n",
    "        similarity = model.wv.n_similarity([country], [word])\n",
    "        similarity.append(similarity)\n",
    "        frequency = model.wv.vocab.get(f\"{country} - {word}\", {}).count\n",
    "        frequencies.append(frequency)\n",
    "    \n",
    "    plt.figure(figsize=(10, 6))\n",
    "    plt.bar(countries, similarities, label='Similarity')\n",
    "    plt.bar(countries, frequencies, label='Frequency')\n",
    "    plt.xlabel('Country')\n",
    "    plt.ylabel('Value')\n",
    "    plt.title(f'Similarity and Frequency for \"{word}\"')\n",
    "    plt.legend()\n",
    "    plt.xticks(rotation=90)\n",
    "    plt.show()\n",
    "    \n",
    "# Example usage\n",
    "model = model_covid_misinfo  # Load your trained model\n",
    "countries = ['India', 'China', 'United States', 'Brazil', 'Russia']\n",
    "plot_similarity_frequency(model_covid_misinfo, 'good', countries)\n",
    "    \n"
   ]
  },
  {
   "cell_type": "code",
   "execution_count": null,
   "metadata": {},
   "outputs": [],
   "source": []
  }
 ],
 "metadata": {
  "kernelspec": {
   "display_name": "Python 3",
   "language": "python",
   "name": "python3"
  },
  "language_info": {
   "codemirror_mode": {
    "name": "ipython",
    "version": 3
   },
   "file_extension": ".py",
   "mimetype": "text/x-python",
   "name": "python",
   "nbconvert_exporter": "python",
   "pygments_lexer": "ipython3",
   "version": "3.11.0"
  }
 },
 "nbformat": 4,
 "nbformat_minor": 2
}
