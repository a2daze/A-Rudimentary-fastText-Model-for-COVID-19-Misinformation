{
 "cells": [
  {
   "cell_type": "markdown",
   "metadata": {},
   "source": [
    "$Setting~Up~Environment$"
   ]
  },
  {
   "cell_type": "code",
   "execution_count": 2,
   "metadata": {},
   "outputs": [],
   "source": [
    "import pandas as pd\n",
    "import bs4 \n",
    "import nltk\n",
    "from nltk.corpus import stopwords\n",
    "import numpy as np\n",
    "from gensim.models.phrases import Phrases, Phraser\n",
    "from gensim.models import FastText\n",
    "from gensim.models import Word2Vec\n",
    "from gensim.test.utils import datapath\n",
    "import joblib\n",
    "from nltk.tokenize import word_tokenize\n",
    "from sklearn.metrics import classification_report, accuracy_score, precision_score, recall_score, f1_score\n",
    "from sklearn.model_selection import train_test_split\n",
    "import fasttext\n",
    "from sklearn.metrics import precision_recall_fscore_support as score\n",
    "from sklearn.metrics import accuracy_score\n"
   ]
  },
  {
   "cell_type": "markdown",
   "metadata": {},
   "source": [
    "$Load~in~dataset~+~label~items~by~group$"
   ]
  },
  {
   "cell_type": "code",
   "execution_count": 3,
   "metadata": {},
   "outputs": [],
   "source": [
    "import pandas as pd\n",
    "\n",
    "# Load the data\n",
    "news_claim = pd.read_csv('news_claim.csv')\n",
    "\n",
    "# Prepare the labeled text data in the FastText format\n",
    "news_claim['labeled_text'] = news_claim.apply(lambda row: f\"__label__{row['group']} {row['text']}\", axis=1)\n",
    "\n",
    "# Save the processed data to a new file\n",
    "news_claim['labeled_text'].to_csv('labeled_news_claim.txt', index=False, header=None)\n",
    "\n"
   ]
  },
  {
   "cell_type": "markdown",
   "metadata": {},
   "source": [
    "$Data~processing-~splitting~training~data~and~labeling~training~data~for~FastText$"
   ]
  },
  {
   "cell_type": "code",
   "execution_count": 6,
   "metadata": {},
   "outputs": [],
   "source": [
    "\n",
    "# Split data into training and testing sets\n",
    "train_data, test_data = train_test_split(news_claim, test_size=0.3, random_state=42)  \n",
    "\n",
    "# Prepare the training data for FastText\n",
    "train_data['labeled_text'] = train_data.apply(lambda row: f\"__label__{row['group']} {row['text']}\", axis=1)\n",
    "train_data['labeled_text'].to_csv('labeled_train_data.txt', index=False, header=None)\n",
    "\n",
    "#Label UNESCO fake news with one label\n",
    "def label_data(input_file, output_file, label):\n",
    "    with open(input_file, 'r') as infile, open(output_file, 'w') as outfile:\n",
    "        for line in infile:\n",
    "            outfile.write(f\"__label__{label} {line}\")\n",
    "\n",
    "label_data('full_text_disinfo_cleaned.txt', 'labeled_fulltext_disinfo.txt', 'fake')\n"
   ]
  },
  {
   "cell_type": "markdown",
   "metadata": {},
   "source": [
    "$Data~processing-~external~dataset~for~testing~in~FastText$"
   ]
  },
  {
   "cell_type": "code",
   "execution_count": 28,
   "metadata": {},
   "outputs": [],
   "source": [
    "\n",
    "test_data_english = pd.read_csv('english_test_with_labels.csv')\n",
    "\n",
    "test_data_english['tweet'].str.replace('\\n', ' ')\n",
    "\n",
    "# Prepare the labeled text data in the FastText format\n",
    "test_data_english['labeled_text'] = test_data_english.apply(lambda row: f\"__label__{row['label']} {row['tweet']}\", axis=1)\n",
    "\n",
    "#Remove \\n from the text\n",
    "test_data_english['labeled_text'] = test_data_english['labeled_text'].str.replace('\\n', ' ')\n",
    "\n",
    "# Save the processed data to a new file\n",
    "test_data_english['labeled_text'].to_csv('labeled_testdata_english.txt', index=False, header=None)\n",
    "\n"
   ]
  },
  {
   "cell_type": "markdown",
   "metadata": {},
   "source": [
    "$Training~FastText~model~with~labeled~training~data$"
   ]
  },
  {
   "cell_type": "code",
   "execution_count": 29,
   "metadata": {},
   "outputs": [
    {
     "name": "stderr",
     "output_type": "stream",
     "text": [
      "Read 0M words\n",
      "Number of words:  4755\n",
      "Number of labels: 4\n",
      "Progress: 100.0% words/sec/thread:  134220 lr:  0.000000 avg.loss:  1.276131 ETA:   0h 0m 0s\n",
      "Read 0M words\n",
      "Number of words:  26950\n",
      "Number of labels: 1\n",
      "Progress: 100.0% words/sec/thread: 2052329 lr:  0.000000 avg.loss:  0.000000 ETA:   0h 0m 0s\n"
     ]
    }
   ],
   "source": [
    "\n",
    "model = fasttext.train_supervised('labeled_train_data.txt')\n",
    "\n",
    "model2 = fasttext.train_supervised('labeled_fulltext_disinfo.txt')"
   ]
  },
  {
   "cell_type": "markdown",
   "metadata": {},
   "source": [
    "$Processing/labeling~testing~data$"
   ]
  },
  {
   "cell_type": "code",
   "execution_count": 30,
   "metadata": {},
   "outputs": [
    {
     "name": "stdout",
     "output_type": "stream",
     "text": [
      "Precision: 0.2009512485136742\n",
      "Recall: 0.4482758620689655\n",
      "F1 score: 0.277504105090312\n",
      "Support: None\n",
      "Accuracy: 0.4482758620689655\n"
     ]
    },
    {
     "name": "stderr",
     "output_type": "stream",
     "text": [
      "/Users/alexz/.pyenv/versions/3.11.0/lib/python3.11/site-packages/sklearn/metrics/_classification.py:1509: UndefinedMetricWarning: Precision is ill-defined and being set to 0.0 in labels with no predicted samples. Use `zero_division` parameter to control this behavior.\n",
      "  _warn_prf(average, modifier, f\"{metric.capitalize()} is\", len(result))\n"
     ]
    }
   ],
   "source": [
    "\n",
    "# Prepare test data\n",
    "X_test = test_data['text'].tolist()  # the text data for testing\n",
    "y_test = test_data['group'].tolist()  # the true labels\n",
    "\n",
    "# Generate predictions\n",
    "predictions = [model.predict(text)[0][0] for text in X_test]\n",
    "predicted_labels = [label.replace('__label__', '') for label in predictions]\n",
    "\n",
    "y_test = [str(label) for label in y_test]\n",
    "\n",
    "# Similarly, ensure predicted_labels are also strings\n",
    "predicted_labels = [label.replace('__label__', '') for label in predictions]\n",
    "\n",
    "# Calculate metrics\n",
    "precision, recall, fscore, support = score(y_test, predicted_labels, average='weighted')  # use 'weighted' for imbalanced classes\n",
    "accuracy = accuracy_score(y_test, predicted_labels)\n",
    "\n",
    "# Output results\n",
    "print(f'Precision: {precision}')\n",
    "print(f'Recall: {recall}')\n",
    "print(f'F1 score: {fscore}')\n",
    "print(f'Support: {support}')\n",
    "print(f'Accuracy: {accuracy}')\n",
    "\n"
   ]
  },
  {
   "cell_type": "code",
   "execution_count": 39,
   "metadata": {},
   "outputs": [
    {
     "name": "stdout",
     "output_type": "stream",
     "text": [
      "0\n",
      "1\n",
      "2\n",
      "3\n",
      "4\n",
      "5\n",
      "6\n",
      "7\n",
      "8\n",
      "9\n",
      "10\n"
     ]
    },
    {
     "ename": "ValueError",
     "evalue": "predict processes one line at a time (remove '\\n')",
     "output_type": "error",
     "traceback": [
      "\u001b[0;31m---------------------------------------------------------------------------\u001b[0m",
      "\u001b[0;31mValueError\u001b[0m                                Traceback (most recent call last)",
      "Cell \u001b[0;32mIn[39], line 4\u001b[0m\n\u001b[1;32m      2\u001b[0m \u001b[38;5;28;01mfor\u001b[39;00m i \u001b[38;5;129;01min\u001b[39;00m \u001b[38;5;28mrange\u001b[39m(\u001b[38;5;28mlen\u001b[39m(Y_test)):\n\u001b[1;32m      3\u001b[0m     \u001b[38;5;28mprint\u001b[39m(i)\n\u001b[0;32m----> 4\u001b[0m     \u001b[43mmodel2\u001b[49m\u001b[38;5;241;43m.\u001b[39;49m\u001b[43mpredict\u001b[49m\u001b[43m(\u001b[49m\u001b[43mY_test\u001b[49m\u001b[43m[\u001b[49m\u001b[43mi\u001b[49m\u001b[43m]\u001b[49m\u001b[43m)\u001b[49m\n",
      "File \u001b[0;32m~/.pyenv/versions/3.11.0/lib/python3.11/site-packages/fasttext/FastText.py:225\u001b[0m, in \u001b[0;36m_FastText.predict\u001b[0;34m(self, text, k, threshold, on_unicode_error)\u001b[0m\n\u001b[1;32m    223\u001b[0m     \u001b[38;5;28;01mreturn\u001b[39;00m all_labels, all_probs\n\u001b[1;32m    224\u001b[0m \u001b[38;5;28;01melse\u001b[39;00m:\n\u001b[0;32m--> 225\u001b[0m     text \u001b[38;5;241m=\u001b[39m \u001b[43mcheck\u001b[49m\u001b[43m(\u001b[49m\u001b[43mtext\u001b[49m\u001b[43m)\u001b[49m\n\u001b[1;32m    226\u001b[0m     predictions \u001b[38;5;241m=\u001b[39m \u001b[38;5;28mself\u001b[39m\u001b[38;5;241m.\u001b[39mf\u001b[38;5;241m.\u001b[39mpredict(text, k, threshold, on_unicode_error)\n\u001b[1;32m    227\u001b[0m     \u001b[38;5;28;01mif\u001b[39;00m predictions:\n",
      "File \u001b[0;32m~/.pyenv/versions/3.11.0/lib/python3.11/site-packages/fasttext/FastText.py:212\u001b[0m, in \u001b[0;36m_FastText.predict.<locals>.check\u001b[0;34m(entry)\u001b[0m\n\u001b[1;32m    210\u001b[0m \u001b[38;5;28;01mdef\u001b[39;00m \u001b[38;5;21mcheck\u001b[39m(entry):\n\u001b[1;32m    211\u001b[0m     \u001b[38;5;28;01mif\u001b[39;00m entry\u001b[38;5;241m.\u001b[39mfind(\u001b[38;5;124m'\u001b[39m\u001b[38;5;130;01m\\n\u001b[39;00m\u001b[38;5;124m'\u001b[39m) \u001b[38;5;241m!=\u001b[39m \u001b[38;5;241m-\u001b[39m\u001b[38;5;241m1\u001b[39m:\n\u001b[0;32m--> 212\u001b[0m         \u001b[38;5;28;01mraise\u001b[39;00m \u001b[38;5;167;01mValueError\u001b[39;00m(\n\u001b[1;32m    213\u001b[0m             \u001b[38;5;124m\"\u001b[39m\u001b[38;5;124mpredict processes one line at a time (remove \u001b[39m\u001b[38;5;130;01m\\'\u001b[39;00m\u001b[38;5;130;01m\\\\\u001b[39;00m\u001b[38;5;124mn\u001b[39m\u001b[38;5;130;01m\\'\u001b[39;00m\u001b[38;5;124m)\u001b[39m\u001b[38;5;124m\"\u001b[39m\n\u001b[1;32m    214\u001b[0m         )\n\u001b[1;32m    215\u001b[0m     entry \u001b[38;5;241m+\u001b[39m\u001b[38;5;241m=\u001b[39m \u001b[38;5;124m\"\u001b[39m\u001b[38;5;130;01m\\n\u001b[39;00m\u001b[38;5;124m\"\u001b[39m\n\u001b[1;32m    216\u001b[0m     \u001b[38;5;28;01mreturn\u001b[39;00m entry\n",
      "\u001b[0;31mValueError\u001b[0m: predict processes one line at a time (remove '\\n')"
     ]
    }
   ],
   "source": []
  },
  {
   "cell_type": "code",
   "execution_count": 43,
   "metadata": {},
   "outputs": [],
   "source": [
    "#Remove \\n from the text\n",
    "test_data_english['labeled_text'] = test_data_english['labeled_text'].str.replace('\\n', ' ')\n",
    "\n",
    "test_data_english['tweet'] = test_data_english['tweet'].str.replace('\\n', ' ')\n"
   ]
  },
  {
   "cell_type": "code",
   "execution_count": 46,
   "metadata": {},
   "outputs": [
    {
     "name": "stdout",
     "output_type": "stream",
     "text": [
      "Precision: 0.2009512485136742\n",
      "Recall: 0.4482758620689655\n",
      "F1 score: 0.277504105090312\n",
      "Support: None\n",
      "Accuracy: 0.4482758620689655\n"
     ]
    },
    {
     "name": "stderr",
     "output_type": "stream",
     "text": [
      "/Users/alexz/.pyenv/versions/3.11.0/lib/python3.11/site-packages/sklearn/metrics/_classification.py:1509: UndefinedMetricWarning: Precision is ill-defined and being set to 0.0 in labels with no predicted samples. Use `zero_division` parameter to control this behavior.\n",
      "  _warn_prf(average, modifier, f\"{metric.capitalize()} is\", len(result))\n"
     ]
    }
   ],
   "source": [
    "\n",
    "# Prepare test data\n",
    "Y_test = test_data_english['tweet'].tolist()  # the text data for testing\n",
    "x_test = test_data_english['label'].tolist()  # the true labels\n",
    "\n",
    "#Generate predictions\n",
    "predictions2 = [model2.predict(text)[0][0] for text in Y_test]\n",
    "\n",
    "predicted_labels2 = [label.replace('__label__', '') for label in predictions2]\n",
    "\n",
    "x_test = [str(label) for label in x_test]\n",
    "\n",
    "# Similarly, ensure predicted_labels are also strings\n",
    "predicted_labels2 = [label.replace('__label__', '') for label in predictions2]\n",
    "\n",
    "# Calculate metrics\n",
    "precision, recall, fscore, support = score(y_test, predicted_labels, average='weighted')  # use 'weighted' for imbalanced classes\n",
    "accuracy = accuracy_score(y_test, predicted_labels)\n",
    "\n",
    "# Output results\n",
    "print(f'Precision: {precision}')\n",
    "print(f'Recall: {recall}')\n",
    "print(f'F1 score: {fscore}')\n",
    "print(f'Support: {support}')\n",
    "print(f'Accuracy: {accuracy}')\n"
   ]
  },
  {
   "cell_type": "markdown",
   "metadata": {},
   "source": []
  },
  {
   "cell_type": "code",
   "execution_count": 45,
   "metadata": {},
   "outputs": [
    {
     "data": {
      "image/png": "[encoded data removed]",
      "text/plain": [
       "<Figure size 1000x700 with 1 Axes>"
      ]
     },
     "metadata": {},
     "output_type": "display_data"
    }
   ],
   "source": [
    "import matplotlib.pyplot as plt\n",
    "import seaborn as sns\n",
    "from sklearn.metrics import confusion_matrix\n",
    "import numpy as np\n",
    "\n",
    "# Assuming you have `y_test` and `predicted_labels` from your model's predictions\n",
    "conf_matrix = confusion_matrix(y_test, predicted_labels)\n",
    "\n",
    "# Plotting the confusion matrix\n",
    "plt.figure(figsize=(10, 7))\n",
    "sns.heatmap(conf_matrix, annot=True, fmt='g', cmap='Blues', cbar=False)  # 'g' formatter prevents scientific notation\n",
    "plt.xlabel('Predicted labels')\n",
    "plt.ylabel('True labels')\n",
    "plt.title('Confusion Matrix')\n",
    "plt.show()"
   ]
  }
 ],
 "metadata": {
  "kernelspec": {
   "display_name": "Python 3",
   "language": "python",
   "name": "python3"
  },
  "language_info": {
   "codemirror_mode": {
    "name": "ipython",
    "version": 3
   },
   "file_extension": ".py",
   "mimetype": "text/x-python",
   "name": "python",
   "nbconvert_exporter": "python",
   "pygments_lexer": "ipython3",
   "version": "3.11.0"
  }
 },
 "nbformat": 4,
 "nbformat_minor": 2
}
